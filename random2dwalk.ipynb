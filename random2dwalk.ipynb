{
 "cells": [
  {
   "cell_type": "code",
   "execution_count": 275,
   "metadata": {},
   "outputs": [
    {
     "data": {
      "text/plain": [
       "[-1.0,\n",
       " -0.9,\n",
       " -0.8,\n",
       " -0.7000000000000001,\n",
       " -0.6000000000000001,\n",
       " -0.5000000000000001,\n",
       " -0.40000000000000013,\n",
       " -0.30000000000000016,\n",
       " -0.20000000000000018,\n",
       " -0.1000000000000002,\n",
       " -2.220446049250313e-16,\n",
       " 0.09999999999999964,\n",
       " 0.19999999999999973,\n",
       " 0.2999999999999998,\n",
       " 0.3999999999999997,\n",
       " 0.49999999999999956,\n",
       " 0.5999999999999996,\n",
       " 0.6999999999999997,\n",
       " 0.7999999999999996,\n",
       " 0.8999999999999995,\n",
       " 0.9999999999999996,\n",
       " 1.0999999999999996,\n",
       " 1.1999999999999993,\n",
       " 1.2999999999999994,\n",
       " 1.3999999999999995,\n",
       " 1.4999999999999996,\n",
       " 1.5999999999999996,\n",
       " 1.6999999999999993,\n",
       " 1.7999999999999994,\n",
       " 1.8999999999999995]"
      ]
     },
     "execution_count": 275,
     "metadata": {},
     "output_type": "execute_result"
    }
   ],
   "source": [
    "list(np.arange(-1,2,0.1))"
   ]
  },
  {
   "cell_type": "code",
   "execution_count": 282,
   "metadata": {},
   "outputs": [
    {
     "data": {
      "text/plain": [
       "[<matplotlib.lines.Line2D at 0x125e89610>]"
      ]
     },
     "execution_count": 282,
     "metadata": {},
     "output_type": "execute_result"
    },
    {
     "data": {
      "image/png": "[encoded data removed]",
      "text/plain": [
       "<Figure size 432x288 with 1 Axes>"
      ]
     },
     "metadata": {
      "needs_background": "light"
     },
     "output_type": "display_data"
    }
   ],
   "source": [
    "plt.plot(np.exp(list(np.arange(-1,1,0.01)))/2.5)"
   ]
  },
  {
   "cell_type": "code",
   "execution_count": 253,
   "metadata": {},
   "outputs": [
    {
     "ename": "SyntaxError",
     "evalue": "invalid syntax (<ipython-input-253-26c594cbc135>, line 1)",
     "output_type": "error",
     "traceback": [
      "\u001b[0;36m  File \u001b[0;32m\"<ipython-input-253-26c594cbc135>\"\u001b[0;36m, line \u001b[0;32m1\u001b[0m\n\u001b[0;31m    np.exp([1..30])\u001b[0m\n\u001b[0m                ^\u001b[0m\n\u001b[0;31mSyntaxError\u001b[0m\u001b[0;31m:\u001b[0m invalid syntax\n"
     ]
    }
   ],
   "source": [
    "np.exp([1..30])"
   ]
  },
  {
   "cell_type": "code",
   "execution_count": 41,
   "metadata": {
    "collapsed": true,
    "jupyter": {
     "outputs_hidden": true
    }
   },
   "outputs": [],
   "source": [
    "x=5\n",
    "y=9\n",
    "home = [4,5]\n",
    "dhome=np.array([home[0]-x,home[1]-y])\n",
    "a = dhome*np.random.rand(1,2)\n",
    "b = np.round(a)"
   ]
  },
  {
   "cell_type": "code",
   "execution_count": 248,
   "metadata": {},
   "outputs": [
    {
     "data": {
      "text/plain": [
       "-1"
      ]
     },
     "execution_count": 248,
     "metadata": {},
     "output_type": "execute_result"
    }
   ],
   "source": [
    "fardist=30.\n",
    "d=20\n",
    "homing = 0.33*np.exp(d/fardist)\n",
    "np.random.choice([-1,0,1], p=[0.33+homing, 0.34, 0.33-homing])"
   ]
  },
  {
   "cell_type": "code",
   "execution_count": 209,
   "metadata": {},
   "outputs": [
    {
     "data": {
      "text/plain": [
       "1"
      ]
     },
     "execution_count": 209,
     "metadata": {},
     "output_type": "execute_result"
    }
   ],
   "source": [
    "np.round(2*np.random.rand()-1).astype(int)"
   ]
  },
  {
   "cell_type": "code",
   "execution_count": 233,
   "metadata": {},
   "outputs": [
    {
     "data": {
      "text/plain": [
       "(array([2513.,    0.,    0.,    0.,    0., 4970.,    0.,    0.,    0.,\n",
       "        2517.]),\n",
       " array([-1. , -0.8, -0.6, -0.4, -0.2,  0. ,  0.2,  0.4,  0.6,  0.8,  1. ]),\n",
       " <a list of 10 Patch objects>)"
      ]
     },
     "execution_count": 233,
     "metadata": {},
     "output_type": "execute_result"
    },
    {
     "data": {
      "image/png": "[encoded data removed]",
      "text/plain": [
       "<Figure size 432x288 with 1 Axes>"
      ]
     },
     "metadata": {
      "needs_background": "light"
     },
     "output_type": "display_data"
    }
   ],
   "source": [
    "vals = []\n",
    "for i in range(10000):\n",
    "    vals.append(np.round(2*np.random.rand()-1).astype(int))\n",
    "plt.hist(vals)"
   ]
  },
  {
   "cell_type": "code",
   "execution_count": 196,
   "metadata": {},
   "outputs": [
    {
     "data": {
      "text/plain": [
       "(array([27.,  0.,  0.,  0.,  0., 53.,  0.,  0.,  0., 20.]),\n",
       " array([-1. , -0.8, -0.6, -0.4, -0.2,  0. ,  0.2,  0.4,  0.6,  0.8,  1. ]),\n",
       " <a list of 10 Patch objects>)"
      ]
     },
     "execution_count": 196,
     "metadata": {},
     "output_type": "execute_result"
    },
    {
     "data": {
      "image/png": "[encoded data removed]",
      "text/plain": [
       "<Figure size 432x288 with 1 Axes>"
      ]
     },
     "metadata": {
      "needs_background": "light"
     },
     "output_type": "display_data"
    }
   ],
   "source": [
    "plt.hist(vals"
   ]
  },
  {
   "cell_type": "code",
   "execution_count": 110,
   "metadata": {},
   "outputs": [],
   "source": [
    "import numpy as np\n",
    "import matplotlib.pyplot as plt\n",
    "import sys"
   ]
  },
  {
   "cell_type": "code",
   "execution_count": 7,
   "metadata": {
    "collapsed": true,
    "jupyter": {
     "outputs_hidden": true
    }
   },
   "outputs": [
    {
     "data": {
      "text/plain": [
       "array([-1, -1])"
      ]
     },
     "execution_count": 7,
     "metadata": {},
     "output_type": "execute_result"
    }
   ],
   "source": [
    "np.random.randint(-1,2,size=2)\n",
    "np.random.randint(-1,2,size=2)"
   ]
  },
  {
   "cell_type": "code",
   "execution_count": 210,
   "metadata": {},
   "outputs": [],
   "source": [
    "def updatePosition(x,y,side,home):\n",
    "    fardist = 30.\n",
    "    #distance from home\n",
    "    dhome=np.array([home[0]-x,home[1]-y])\n",
    "    #dx, dy = 3*np.ceil(np.random.rand(2,) + (dhome/fardist)*np.random.rand(2,)).astype(int)-1\n",
    "    dx, dy = np.round(2*np.random.rand(2,)-1).astype(int)\n",
    "    #sys.stdout.write(str(int(dhome[0])))\n",
    "    #sys.stdout.flush()\n",
    "\n",
    "    #print('dx: {0}, dy: {1}'.format(dx,dy))\n",
    "    #boundary teleportation: (aka periodic)\n",
    "    #x = (x+dx)%side\n",
    "    #y = (y+dy)%side\n",
    "    #boundary reflective:\n",
    "    x = max(min(x+dx,side-1),0)\n",
    "    y = max(min(y+dy,side-1),0)\n",
    "\n",
    "    return x, y"
   ]
  },
  {
   "cell_type": "code",
   "execution_count": 228,
   "metadata": {},
   "outputs": [
    {
     "data": {
      "text/plain": [
       "<matplotlib.image.AxesImage at 0x12544cc50>"
      ]
     },
     "execution_count": 228,
     "metadata": {},
     "output_type": "execute_result"
    },
    {
     "data": {
      "image/png": "[encoded data removed]",
      "text/plain": [
       "<Figure size 432x288 with 1 Axes>"
      ]
     },
     "metadata": {
      "needs_background": "light"
     },
     "output_type": "display_data"
    }
   ],
   "source": [
    "side =100\n",
    "plane = np.zeros((side,side),int)\n",
    "#np.random.seed(0)\n",
    "#x_init, y_init = map(int,map(round,np.random.uniform(0, side-1, 2)))\n",
    "x_init, y_init = [side//2,side//2] \n",
    "home = [x_init, y_init]\n",
    "\n",
    "x=x_init\n",
    "y=y_init\n",
    "xy = np.array([x_init,y_init])\n",
    "for it in range(1000):\n",
    "    x, y = updatePosition(x, y,side,home)\n",
    "    #print(\"{0},{1}\".format(x,y))\n",
    "    plane[x,y]=plane[x,y]+1\n",
    "    \n",
    "plt.imshow(plane)\n"
   ]
  },
  {
   "cell_type": "code",
   "execution_count": null,
   "metadata": {},
   "outputs": [],
   "source": []
  },
  {
   "cell_type": "code",
   "execution_count": 106,
   "metadata": {
    "collapsed": true,
    "jupyter": {
     "outputs_hidden": true
    }
   },
   "outputs": [
    {
     "name": "stdout",
     "output_type": "stream",
     "text": [
      "[array([-1,  0]), array([0, 0]), array([1, 1]), array([1, 1]), array([-1, -1]), array([1, 1]), array([-1,  0]), array([-1,  1]), array([0, 1]), array([-1, -1]), array([-1,  0]), array([-1,  1]), array([1, 1]), array([1, 0]), array([-1,  1]), array([1, 0]), array([-1,  1]), array([1, 0]), array([-1, -1]), array([-1,  1]), array([ 0, -1]), array([-1, -1]), array([ 1, -1]), array([0, 1]), array([1, 0]), array([-1,  0]), array([ 1, -1]), array([ 0, -1]), array([ 0, -1]), array([-1, -1])]\n"
     ]
    }
   ],
   "source": [
    "res = []\n",
    "for iii in range(1000):\n",
    "    np.random.randint(-1,2,size=2)\n",
    "print(res)"
   ]
  },
  {
   "cell_type": "code",
   "execution_count": null,
   "metadata": {
    "collapsed": true,
    "jupyter": {
     "outputs_hidden": true
    }
   },
   "outputs": [],
   "source": []
  }
 ],
 "metadata": {
  "kernelspec": {
   "display_name": "Python 3",
   "language": "python",
   "name": "python3"
  },
  "language_info": {
   "codemirror_mode": {
    "name": "ipython",
    "version": 3
   },
   "file_extension": ".py",
   "mimetype": "text/x-python",
   "name": "python",
   "nbconvert_exporter": "python",
   "pygments_lexer": "ipython3",
   "version": "3.7.4"
  }
 },
 "nbformat": 4,
 "nbformat_minor": 4
}
